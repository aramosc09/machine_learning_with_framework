{
 "cells": [
  {
   "cell_type": "code",
   "execution_count": 7,
   "metadata": {},
   "outputs": [
    {
     "data": {
      "text/plain": [
       "{'0': {'completions': 345.619047619,\n",
       "  'attempts': 526.9523809524,\n",
       "  'passing_yards': 3856.2857142857,\n",
       "  'passing_tds': 24.1428571429,\n",
       "  'interceptions': 11.1904761905,\n",
       "  'sacks': 35.7619047619,\n",
       "  'sack_fumbles': 4.8095238095,\n",
       "  'sack_fumbles_lost': 2.4285714286,\n",
       "  'passing_air_yards': 4124.8571428571,\n",
       "  'passing_yards_after_catch': 1828.0952380952,\n",
       "  'passing_first_downs': 181.2380952381,\n",
       "  'passing_epa': 35.8810184164,\n",
       "  'passing_2pt_conversions': 1.2857142857,\n",
       "  'games': 16.0476190476},\n",
       " '1': {'completions': 167.2941176471,\n",
       "  'attempts': 262.7058823529,\n",
       "  'passing_yards': 1741.0588235294,\n",
       "  'passing_tds': 9.0588235294,\n",
       "  'interceptions': 5.8235294118,\n",
       "  'sacks': 24.6470588235,\n",
       "  'sack_fumbles': 2.9411764706,\n",
       "  'sack_fumbles_lost': 1.3529411765,\n",
       "  'passing_air_yards': 1981.0,\n",
       "  'passing_yards_after_catch': 852.5294117647,\n",
       "  'passing_first_downs': 81.2941176471,\n",
       "  'passing_epa': -25.9490925568,\n",
       "  'passing_2pt_conversions': 0.2941176471,\n",
       "  'games': 10.5882352941}}"
      ]
     },
     "execution_count": 7,
     "metadata": {},
     "output_type": "execute_result"
    }
   ],
   "source": [
    "import json\n",
    "\n",
    "# Abre el archivo JSON\n",
    "with open('/Users/ajelandro/Documents/GitHub/machine_learning_with_framework/clustered_data/passing_metrics_2023/summary_passing_metrics_2023.json', 'r') as archivo:\n",
    "    # Convierte el JSON a un diccionario de Python\n",
    "    diccionario = json.load(archivo)\n",
    "\n",
    "# Ahora 'diccionario' contiene los datos del JSON\n",
    "diccionario"
   ]
  },
  {
   "cell_type": "code",
   "execution_count": 2,
   "metadata": {},
   "outputs": [
    {
     "data": {
      "text/html": [
       "<pre style=\"white-space:pre;overflow-x:auto;line-height:normal;font-family:Menlo,'DejaVu Sans Mono',consolas,'Courier New',monospace\">┏━━━━━━━━━━━━━━━━━━━━━━━━━━━━━━━━━━━━━━━━━━━━━━━━━━━━━━━━━━━━━━━━━━━━━━━━━━━━━━━━━━━━━━━━━━━━━━━━━━━━━━━━━━━━━━━━━┓\n",
       "┃                                                     <span style=\"font-weight: bold\">Heading</span>                                                     ┃\n",
       "┗━━━━━━━━━━━━━━━━━━━━━━━━━━━━━━━━━━━━━━━━━━━━━━━━━━━━━━━━━━━━━━━━━━━━━━━━━━━━━━━━━━━━━━━━━━━━━━━━━━━━━━━━━━━━━━━━━┛\n",
       "\n",
       "<span style=\"font-weight: bold\">Bold text</span> <span style=\"font-style: italic\">Italic text</span>                                                                                              \n",
       "\n",
       "<span style=\"color: #808000; text-decoration-color: #808000; font-weight: bold\"> • </span>List item                                                                                                       \n",
       "</pre>\n"
      ],
      "text/plain": [
       "┏━━━━━━━━━━━━━━━━━━━━━━━━━━━━━━━━━━━━━━━━━━━━━━━━━━━━━━━━━━━━━━━━━━━━━━━━━━━━━━━━━━━━━━━━━━━━━━━━━━━━━━━━━━━━━━━━━┓\n",
       "┃                                                     \u001b[1mHeading\u001b[0m                                                     ┃\n",
       "┗━━━━━━━━━━━━━━━━━━━━━━━━━━━━━━━━━━━━━━━━━━━━━━━━━━━━━━━━━━━━━━━━━━━━━━━━━━━━━━━━━━━━━━━━━━━━━━━━━━━━━━━━━━━━━━━━━┛\n",
       "\n",
       "\u001b[1mBold text\u001b[0m \u001b[3mItalic text\u001b[0m                                                                                              \n",
       "\n",
       "\u001b[1;33m • \u001b[0mList item                                                                                                       \n"
      ]
     },
     "metadata": {},
     "output_type": "display_data"
    }
   ],
   "source": [
    "from rich.console import Console\n",
    "from rich.markdown import Markdown\n",
    "\n",
    "console = Console()\n",
    "\n",
    "markdown_text = \"\"\"\n",
    "# Heading\n",
    "**Bold text**\n",
    "*Italic text*\n",
    "- List item\n",
    "\"\"\"\n",
    "\n",
    "md = Markdown(markdown_text)\n",
    "console.print(md)\n"
   ]
  },
  {
   "cell_type": "code",
   "execution_count": null,
   "metadata": {},
   "outputs": [],
   "source": []
  }
 ],
 "metadata": {
  "kernelspec": {
   "display_name": "alex",
   "language": "python",
   "name": "python3"
  },
  "language_info": {
   "codemirror_mode": {
    "name": "ipython",
    "version": 3
   },
   "file_extension": ".py",
   "mimetype": "text/x-python",
   "name": "python",
   "nbconvert_exporter": "python",
   "pygments_lexer": "ipython3",
   "version": "3.10.14"
  }
 },
 "nbformat": 4,
 "nbformat_minor": 2
}
